{
 "cells": [
  {
   "cell_type": "markdown",
   "id": "47e4bdc1-fcff-4308-9260-63e40765c350",
   "metadata": {},
   "source": [
    "# TODO: definire i dataset e i path all'inizio\n",
    "# TODO: esempio nft(sample) che è l'unico dei dataset che è pubblico senza storie"
   ]
  },
  {
   "cell_type": "code",
   "execution_count": 1,
   "id": "189c4bda-c3d5-4da0-892a-924d638b8698",
   "metadata": {},
   "outputs": [],
   "source": [
    "from utils import *"
   ]
  },
  {
   "cell_type": "code",
   "execution_count": 2,
   "id": "9b68a7d0-80a8-4060-ab68-9b83840ba896",
   "metadata": {},
   "outputs": [],
   "source": [
    "import sys\n",
    "# sys.path.insert(1, f'{blockchain_nas_folder}/scripts/')\n",
    "nas_folder = \".\" \n",
    "sys.path.insert(1, f'{nas_folder}/mylibraries')\n",
    "\n",
    "# sys.path.insert(1, f'{nas_folder}/mylibraries')\n",
    "import connetslib.graphlib.graphbuilder as glib_builder\n",
    "import connetslib.graphlib.storage as glib_storage\n",
    "import connetslib.graphlib.analysis as glib_analysis\n",
    "\n",
    "import connetslib.triadlib.census_functions as census_functions\n",
    "import connetslib.triadlib.enum_commons as enum_commons\n",
    "import connetslib.triadlib.plotting_functions as plotting\n",
    "import connetslib.triadlib.directed_census_utils as directed_census_utils\n",
    "import connetslib.triadlib.aggregated_functions as agg_funcs\n"
   ]
  },
  {
   "cell_type": "code",
   "execution_count": 3,
   "id": "85d094c4-f41e-4f88-8c2a-9e10346c3842",
   "metadata": {},
   "outputs": [],
   "source": [
    "DATA_PATH = \"/data-restricted/home/cheick_ba/safe_datasets_on_nas/safe_datasets/raw/\"#\"/home/jupyter-cheick_ba/nas/data_on_nas/datasets/raw/\""
   ]
  },
  {
   "cell_type": "code",
   "execution_count": 4,
   "id": "0fecd855-d52a-47f0-bf03-2e2392f11ab7",
   "metadata": {},
   "outputs": [],
   "source": [
    "PROCESSED_DATA_PATH = \"./demofiles/preprocessed/\"#/data-restricted/home/cheick_ba/safe_datasets_on_nas/safe_datasets/processed/osnemtriad/preprocessed/\"#\"/home/jupyter-cheick_ba/nas/data_on_nas/datasets/processed/osnemtriad/preprocessed\""
   ]
  },
  {
   "cell_type": "markdown",
   "id": "020b5e03-b163-43d8-a673-02b489d9c420",
   "metadata": {},
   "source": [
    "# Demo graphs"
   ]
  },
  {
   "cell_type": "code",
   "execution_count": 5,
   "id": "4d92c379-d242-4c06-823b-517677c8089b",
   "metadata": {},
   "outputs": [],
   "source": [
    "import networkx as nx\n",
    "import pandas as pd\n",
    "rows = []\n",
    "G = nx.karate_club_graph().to_directed()\n",
    "\n",
    "import random\n",
    "\n",
    "for e in G.edges():\n",
    "    u, w = e\n",
    "    t =  f'2017-11-{random.choice(range(1,30)) } 00:00:00'\n",
    "    G[u][w][\"t\"] = t\n",
    "    rows.append( (u,w,t) )\n",
    "    \n",
    "    nx.write_gpickle(G,\"karaatetestgraph.gpickle\")"
   ]
  },
  {
   "cell_type": "code",
   "execution_count": 6,
   "id": "2bccd0bd-6844-4aa5-8410-f6e0241f9753",
   "metadata": {},
   "outputs": [],
   "source": [
    "ks = [\"a\",\"b\",\"c\"]\n",
    "df = pd.DataFrame(rows, columns=ks)"
   ]
  },
  {
   "cell_type": "code",
   "execution_count": 7,
   "id": "8b1b0d3e-8fd8-4dc8-b584-a94f33abb399",
   "metadata": {},
   "outputs": [
    {
     "name": "stdout",
     "output_type": "stream",
     "text": [
      "    from  to           timestamp\n",
      "19     1   7  2017-11-1 00:00:00\n",
      "(156, 3)\n",
      "./demofiles/preprocessed/karate/karate_edges.csv.gz\n"
     ]
    },
    {
     "data": {
      "text/plain": [
       "'./demofiles/preprocessed/karate/karate_edges.csv.gz'"
      ]
     },
     "execution_count": 7,
     "metadata": {},
     "output_type": "execute_result"
    }
   ],
   "source": [
    "store_csv(df = df, #df_standard, \n",
    "              PROCESSED_DATA_PATH = PROCESSED_DATA_PATH, \n",
    "              DATASET_NAME = \"karate\", \n",
    "              suffix=\"_edges\",\n",
    "              keys= ks,\n",
    "              rename_as= [\"from\", \"to\",\"timestamp\"])"
   ]
  },
  {
   "cell_type": "code",
   "execution_count": 8,
   "id": "7013a3f6-b57c-4780-99b7-7fb47daca7e1",
   "metadata": {},
   "outputs": [],
   "source": [
    "import networkx as nx\n",
    "import pandas as pd\n",
    "rows = []\n",
    "G = nx.gn_graph(100) # nx.scale_free_graph(100, create_using=nx.DiGraph)\n",
    "\n",
    "import random\n",
    "\n",
    "for e in G.edges():\n",
    "    u, w = e\n",
    "    t =  f'2017-11-{random.choice(range(1,30)) } 00:00:00'\n",
    "    G[u][w][\"t\"] = t\n",
    "    rows.append( (u,w,t) )\n"
   ]
  },
  {
   "cell_type": "code",
   "execution_count": 9,
   "id": "3da673a3-8131-42d7-8eab-c453d728a744",
   "metadata": {},
   "outputs": [],
   "source": [
    "ks = [\"a\",\"b\",\"c\"]\n",
    "df = pd.DataFrame(rows, columns=ks)"
   ]
  },
  {
   "cell_type": "code",
   "execution_count": 10,
   "id": "e89c1df9-cf0d-484f-9a9c-ca7ca157a1a1",
   "metadata": {},
   "outputs": [
    {
     "name": "stdout",
     "output_type": "stream",
     "text": [
      "    from  to           timestamp\n",
      "18    19   0  2017-11-1 00:00:00\n",
      "(99, 3)\n",
      "./demofiles/preprocessed/gn/gn_edges.csv.gz\n"
     ]
    },
    {
     "data": {
      "text/plain": [
       "'./demofiles/preprocessed/gn/gn_edges.csv.gz'"
      ]
     },
     "execution_count": 10,
     "metadata": {},
     "output_type": "execute_result"
    }
   ],
   "source": [
    "store_csv(df = df, #df_standard, \n",
    "              PROCESSED_DATA_PATH = PROCESSED_DATA_PATH, \n",
    "              DATASET_NAME = \"gn\", \n",
    "              suffix=\"_edges\",\n",
    "              keys= ks,\n",
    "              rename_as= [\"from\", \"to\",\"timestamp\"])"
   ]
  },
  {
   "cell_type": "markdown",
   "id": "ecf6fffc-a171-4daa-bc62-e587336cb6ec",
   "metadata": {
    "tags": []
   },
   "source": [
    "# Run a census"
   ]
  },
  {
   "cell_type": "code",
   "execution_count": null,
   "id": "bba5ed90-2bd8-444c-a342-5c1975de10d6",
   "metadata": {},
   "outputs": [],
   "source": [
    "save_path = \"demofiles/triadic_data/\"\n",
    "n_processes = 8"
   ]
  },
  {
   "cell_type": "code",
   "execution_count": 11,
   "id": "1c58e5f4-f25f-4f3e-8206-95f66ff41eab",
   "metadata": {},
   "outputs": [],
   "source": [
    "datasets = {\n",
    "    \"karate\": \"./demofiles/preprocessed/karate/karate_edges.csv.gz\"\n",
    "}"
   ]
  },
  {
   "cell_type": "markdown",
   "id": "151dd7a1-b40c-4378-b35d-00c282c66170",
   "metadata": {},
   "source": [
    "Construct the graph (networkx)"
   ]
  },
  {
   "cell_type": "code",
   "execution_count": 12,
   "id": "83423e94-2e58-43a7-8ba3-c0aeaa7cdd42",
   "metadata": {},
   "outputs": [],
   "source": [
    "PROCESSED_DATA_FILEPATH = \"./demofiles/preprocessed/karate/karate_edges.csv.gz\""
   ]
  },
  {
   "cell_type": "code",
   "execution_count": 13,
   "id": "24f70a81-b5d1-4e84-b492-5b23d562bd46",
   "metadata": {
    "tags": []
   },
   "outputs": [],
   "source": [
    "save_name = \"karate\"#args.save_name #\"osf_test\""
   ]
  },
  {
   "cell_type": "code",
   "execution_count": 14,
   "id": "a8f52045-f1dc-49b9-b523-34952259fcdf",
   "metadata": {},
   "outputs": [
    {
     "name": "stdout",
     "output_type": "stream",
     "text": [
      "   from  to  timestamp\n",
      "0     1   7 2017-11-01\n",
      "(156, 3)\n",
      "digraph <class 'networkx.classes.digraph.DiGraph'>\n",
      "2017-11-29 00:00:00\n"
     ]
    },
    {
     "data": {
      "application/vnd.jupyter.widget-view+json": {
       "model_id": "aabc5cb3a3194199bed7704e07348360",
       "version_major": 2,
       "version_minor": 0
      },
      "text/plain": [
       "  0%|          | 0/151 [00:00<?, ?it/s]"
      ]
     },
     "metadata": {},
     "output_type": "display_data"
    },
    {
     "name": "stdout",
     "output_type": "stream",
     "text": [
      "DiGraph with 34 nodes and 151 edges\n"
     ]
    }
   ],
   "source": [
    "start_time = None #args.start_timestamp\n",
    "end_time = None #args.end_timestamp\n",
    "\n",
    "transactions = glib_storage.load_transactions_dataframe(PROCESSED_DATA_FILEPATH)\n",
    "\n",
    "# TODO: prendi min/max o fai un mese\n",
    "if start_time is None:\n",
    "    start_time = glib_builder.get_start_time(transactions, timestamp_key=\"timestamp\")\n",
    "\n",
    "if end_time is None:\n",
    "    end_time = glib_builder.get_end_time(transactions, timestamp_key=\"timestamp\")\n",
    "\n",
    "G = glib_builder.simple_construction_from_dataframe(transactions, \n",
    "                                  start_string = start_time,\n",
    "                                  end_string = end_time, \n",
    "                                  GRAPH_TYPE = \"digraph\", \n",
    "                                  add_edge_func = glib_builder.add_edge_function_weight_temporal,\n",
    "                                 )"
   ]
  },
  {
   "cell_type": "code",
   "execution_count": 15,
   "id": "612847a5-8c9a-43c6-b88a-93255bc99386",
   "metadata": {
    "scrolled": true,
    "tags": []
   },
   "outputs": [
    {
     "name": "stdout",
     "output_type": "stream",
     "text": [
      "No shuffling function specified!!!\n",
      "2023-09-13 12-02-06\n",
      "Creating: /data-restricted/home/cheick_ba/data_on_nas/archived/triadi_osnem/TemporalTriadDelay/demofiles/triadic_data/karate_2023-09-13 12-02-06\n",
      "/data-restricted/home/cheick_ba/data_on_nas/archived/triadi_osnem/TemporalTriadDelay/demofiles/triadic_data/karate_2023-09-13 12-02-06 e poi karate_main\n",
      "2023-09-13 12:02:06.875406 Starting new_generate_snapshot\n",
      "Creating: /data-restricted/home/cheick_ba/data_on_nas/archived/triadi_osnem/TemporalTriadDelay/demofiles/triadic_data/karate_2023-09-13 12-02-06\n",
      "Folder: /data-restricted/home/cheick_ba/data_on_nas/archived/triadi_osnem/TemporalTriadDelay/demofiles/triadic_data/karate_2023-09-13 12-02-06 already exists, we are going on\n",
      "\n",
      "Creating: /data-restricted/home/cheick_ba/data_on_nas/archived/triadi_osnem/TemporalTriadDelay/demofiles/triadic_data/karate_2023-09-13 12-02-06/karate_main/\n",
      "2023-09-13 12:02:06.878520 Starting make_mapping_user_id\n",
      "2023-09-13 12:02:06.883749 Completed make_mapping_user_id in  0.005158901214599609\n",
      "2023-09-13 12:02:06.883835 Starting make_timestamp_map\n",
      "NOTE: timestamps will start from 1\n",
      "2023-09-13 12:02:06.887602 Completed make_timestamp_map in  0.002418994903564453\n",
      "timestamp limit was not defined, we use all data so limit is: 2017-11-28 00:00:00\n",
      "\n",
      "karate_main_2017-11-28 00:00:00\n",
      "\n",
      "2023-09-13 12:02:06.887794 Starting generate_snapshot\n",
      "2023-09-13 12:02:06.889706 t <=  2017-11-28 00:00:00\n",
      "2023-09-13 12:02:06.890484 Snapshot till 2017-11-28 00:00:00 ord/size: 34 151\n",
      "2023-09-13 12:02:06.891532 Completed generate_snapshot in  0.0018553733825683594\n",
      "2023-09-13 12:02:06.891759 Starting preprocess_snapshot\n",
      "Successfully created the directory /data-restricted/home/cheick_ba/data_on_nas/archived/triadi_osnem/TemporalTriadDelay/demofiles/triadic_data/karate_2023-09-13 12-02-06/karate_main//karate_main_2017-11-28 00:00:00 \n",
      "DiGraph with 34 nodes and 151 edges\n",
      "2023-09-13 12:02:06.893906 Starting make_mapped_graph\n",
      "2023-09-13 12:02:06.899910 Completed make_mapped_graph in  0.005893707275390625\n",
      "2023-09-13 12:02:06.900185 Starting get_neighborhoods\n",
      "2023-09-13 12:02:06.903799 Completed get_neighborhoods in  0.003505229949951172\n",
      "2023-09-13 12:02:06.904706 Starting calc_pagerank_elite\n",
      "2023-09-13 12:02:06.915823 Completed calc_pagerank_elite in  0.011008739471435547\n",
      "2023-09-13 12:02:06.916105 Starting calc_outdegree_elite\n",
      "2023-09-13 12:02:06.919859 Completed calc_outdegree_elite in  0.003648519515991211\n",
      "2023-09-13 12:02:06.920805 Completed preprocess_snapshot in  0.028940677642822266\n",
      "Graph name without extension: /data-restricted/home/cheick_ba/data_on_nas/archived/triadi_osnem/TemporalTriadDelay/demofiles/triadic_data/karate_2023-09-13 12-02-06/karate_main//karate_main_2017-11-28 00:00:00/karate_main_2017-11-28 00:00:00\n",
      "Reading graph: /data-restricted/home/cheick_ba/data_on_nas/archived/triadi_osnem/TemporalTriadDelay/demofiles/triadic_data/karate_2023-09-13 12-02-06/karate_main//karate_main_2017-11-28 00:00:00/karate_main_2017-11-28 00:00:00_mapped.pkl\n",
      "Converting to Matrix\n",
      "Get the new indices\n",
      "MB: 0.001285552978515625\n",
      "Dropping graph variable\n",
      "Saving Matrix\n",
      "Saving new indices\n",
      "2023-09-13 12:02:06.945598 Completed new_generate_snapshot in  0.07013297080993652\n",
      "\n",
      "Starting parallel census function\n",
      "Creating: /data-restricted/home/cheick_ba/data_on_nas/archived/triadi_osnem/TemporalTriadDelay/demofiles/triadic_data/karate_2023-09-13 12-02-06/karate_main//karate_main_2017-11-28 00:00:00/karate_main_2017-11-28 00:00:00_census_list\n",
      "storage_path: /data-restricted/home/cheick_ba/data_on_nas/archived/triadi_osnem/TemporalTriadDelay/demofiles/triadic_data/karate_2023-09-13 12-02-06/karate_main//karate_main_2017-11-28 00:00:00/karate_main_2017-11-28 00:00:00_triads\n",
      "Creating: /data-restricted/home/cheick_ba/data_on_nas/archived/triadi_osnem/TemporalTriadDelay/demofiles/triadic_data/karate_2023-09-13 12-02-06/karate_main//karate_main_2017-11-28 00:00:00/karate_main_2017-11-28 00:00:00_triads\n",
      "log_folder_path: /data-restricted/home/cheick_ba/data_on_nas/archived/triadi_osnem/TemporalTriadDelay/demofiles/triadic_data/karate_2023-09-13 12-02-06/karate_main//karate_main_2017-11-28 00:00:00/karate_main_2017-11-28 00:00:00_logs\n",
      "Creating: /data-restricted/home/cheick_ba/data_on_nas/archived/triadi_osnem/TemporalTriadDelay/demofiles/triadic_data/karate_2023-09-13 12-02-06/karate_main//karate_main_2017-11-28 00:00:00/karate_main_2017-11-28 00:00:00_logs\n",
      "processes 2\n",
      "Chunk size 5\n",
      "TOTAL CHUNKS ADJUSTED: 7\n",
      "2023-09-13 12:02:06.988390  Starting with #Chunks: 8\n"
     ]
    },
    {
     "data": {
      "application/vnd.jupyter.widget-view+json": {
       "model_id": "78bd5f9ac6364425a98348bd5bd11fb1",
       "version_major": 2,
       "version_minor": 0
      },
      "text/plain": [
       "  0%|          | 0/8 [00:00<?, ?it/s]"
      ]
     },
     "metadata": {},
     "output_type": "display_data"
    },
    {
     "name": "stdout",
     "output_type": "stream",
     "text": [
      "2023-09-13 12:02:07.160995 MAIN: AGGREGATING RESULTS 2023-09-13 12:02:07.161004\n",
      "N is : 0\n",
      "/data-restricted/home/cheick_ba/data_on_nas/archived/triadi_osnem/TemporalTriadDelay/demofiles/triadic_data/karate_2023-09-13 12-02-06/results.json.gz\n"
     ]
    }
   ],
   "source": [
    "results = census_functions.parallel_triadic_census_plain(G, save_name, \n",
    "                                                         folder=save_path, store_closed=True, n_processes=2)"
   ]
  },
  {
   "cell_type": "raw",
   "id": "f0357867-c439-4217-9df8-02c9ea6cdb51",
   "metadata": {
    "tags": []
   },
   "source": [
    "results = census_functions.parallel_triadic_census_shuffled(G, save_name, shuffle_type=\"time\", N=3, \n",
    "                                                            folder=save_path, store_closed=True, n_processes=2)"
   ]
  },
  {
   "cell_type": "code",
   "execution_count": 17,
   "id": "a452f2e1-0564-412a-b033-dec24555f8d7",
   "metadata": {},
   "outputs": [],
   "source": [
    "# Save original G\n",
    "GRAPH_PATH = os.path.join(results[\"folder_exp\"],\"graph.lzma\")\n",
    "glib_storage.save_snapshot_lzma(G, GRAPH_PATH)   "
   ]
  },
  {
   "cell_type": "code",
   "execution_count": 18,
   "id": "900ca437-7a0a-4447-8747-3858432f9566",
   "metadata": {},
   "outputs": [],
   "source": [
    "mega_results = {}\n",
    "mega_results[save_name] = results"
   ]
  },
  {
   "cell_type": "markdown",
   "id": "00bf1e65-8e6a-415b-b50a-9a45426c70c6",
   "metadata": {},
   "source": [
    "### Read"
   ]
  },
  {
   "cell_type": "code",
   "execution_count": 49,
   "id": "a721dad4-e9d7-415f-98d0-550107bb913b",
   "metadata": {
    "scrolled": true,
    "tags": []
   },
   "outputs": [
    {
     "name": "stdout",
     "output_type": "stream",
     "text": [
      "karate\n",
      "Creating: ./images\n",
      "Folder: ./images already exists, we are going on\n",
      "\n",
      "Creating: ./images/png\n",
      "Folder: ./images/png already exists, we are going on\n",
      "\n",
      "Creating: ./images/pdf\n",
      "Folder: ./images/pdf already exists, we are going on\n",
      "\n",
      "./images/png/karate-closed.png - dpi: 300\n",
      "./images/pdf/karate-closed.pdf - dpi: 300\n"
     ]
    },
    {
     "data": {
      "image/png": "[encoded data removed]",
      "text/plain": [
       "<Figure size 640x480 with 1 Axes>"
      ]
     },
     "metadata": {},
     "output_type": "display_data"
    },
    {
     "name": "stdout",
     "output_type": "stream",
     "text": [
      "karate\n",
      "Creating: ./images\n",
      "Folder: ./images already exists, we are going on\n",
      "\n",
      "Creating: ./images/png\n",
      "Folder: ./images/png already exists, we are going on\n",
      "\n",
      "Creating: ./images/pdf\n",
      "Folder: ./images/pdf already exists, we are going on\n",
      "\n",
      "./images/png/karate-open.png - dpi: 300\n",
      "./images/pdf/karate-open.pdf - dpi: 300\n"
     ]
    },
    {
     "data": {
      "image/png": "[encoded data removed]",
      "text/plain": [
       "<Figure size 640x480 with 1 Axes>"
      ]
     },
     "metadata": {},
     "output_type": "display_data"
    },
    {
     "name": "stdout",
     "output_type": "stream",
     "text": [
      "karate\n",
      "[('0', '6'), ('0', '10'), ('1', '6'), ('1', '7'), ('1', '9'), ('2', '8'), ('2', '9'), ('2', '11'), ('3', '6'), ('3', '8'), ('4', '9'), ('4', '10'), ('4', '11'), ('5', '11'), ('5', '12')]\n",
      "Creating: ./images\n",
      "Folder: ./images already exists, we are going on\n",
      "\n",
      "Creating: ./images/png\n",
      "Folder: ./images/png already exists, we are going on\n",
      "\n",
      "Creating: ./images/pdf\n",
      "Folder: ./images/pdf already exists, we are going on\n",
      "\n",
      "./images/png/karate-evolutions_new.png - dpi: 300\n",
      "./images/pdf/karate-evolutions_new.pdf - dpi: 300\n"
     ]
    },
    {
     "data": {
      "image/png": "[encoded data removed]",
      "text/plain": [
       "<Figure size 1100x300 with 1 Axes>"
      ]
     },
     "metadata": {},
     "output_type": "display_data"
    }
   ],
   "source": [
    "for focus in [\"closed\",\"open\", \"evolutions_new\"]:\n",
    "\n",
    "    for k,agg in mega_results.items():\n",
    "        print(k)\n",
    "        aggregated = agg[\"main\"][\"aggregated_results\"]\n",
    "\n",
    "        if focus == \"open\":\n",
    "            cnt = agg_funcs.get_census_open(aggregated)\n",
    "            plot_open(cnt, k, focus)\n",
    "            \n",
    "        if focus == \"closed\":\n",
    "            cnt = agg_funcs.get_census_closed(aggregated)\n",
    "\n",
    "            plot_closed(cnt, k, focus)\n",
    "            \n",
    "        if focus == \"evolutions_new\":\n",
    "            evolutions = aggregated['evolutions']\n",
    "            cnt = { (k[0],k[1:]):v for k,v in evolutions.items()}\n",
    "            cnt = OrderedDict(sorted(cnt.items(), key= lambda v: ( int(v[0][0]),int(v[0][1]))))\n",
    "            plot_evolutions(cnt, k, focus)\n",
    "            "
   ]
  },
  {
   "cell_type": "markdown",
   "id": "dd50083a-2019-47ad-8015-ac07b6dd4e08",
   "metadata": {},
   "source": [
    "# Run other delay measures"
   ]
  },
  {
   "cell_type": "code",
   "execution_count": null,
   "id": "8fc76b71-1d13-41b5-92f7-84a637de7f61",
   "metadata": {},
   "outputs": [],
   "source": [
    "import sys\n",
    "import os\n",
    "\n",
    "try:\n",
    "    # from tqdm import tqdm\n",
    "    #from tqdm.notebook import tqdm as tqdm\n",
    "    from tqdm.auto import tqdm\n",
    "except ImportError:\n",
    "    def tqdm(iterator, *args, **kwargs):\n",
    "        return iterator\n",
    "\n",
    "import networkx as nx\n",
    "def get_early_times_for_delay(triangle, ordered_triad, edges_by_time, timestamp_key = \"t\"):\n",
    "\n",
    "    a,b,c = ordered_triad\n",
    "    t_ac = triangle.get_edge_data(a, c, default={timestamp_key:'9999-12-31 23:59:59'})[timestamp_key] # if edge does not exist, return a \"infinite date\"\n",
    "    t_ca = triangle.get_edge_data(c, a, default={timestamp_key:'9999-12-31 23:59:59'})[timestamp_key]\n",
    "    \n",
    "    birth_ac =  min(t_ac, t_ca ) # either both edges exist and it's a real min(), or only one exists, then i will for sure get it.\n",
    "    \n",
    "    early_closing_time = min(t_ac, t_ca )\n",
    "    \n",
    "    t_ab = triangle.get_edge_data(a, b, default={timestamp_key:'9999-12-31 23:59:59'})[timestamp_key]\n",
    "    t_ba = triangle.get_edge_data(b, a, default={timestamp_key:'9999-12-31 23:59:59'})[timestamp_key]\n",
    "    \n",
    "    birth_ab = min(t_ab,t_ba)\n",
    "    \n",
    "    t_bc = triangle.get_edge_data(b, c, default={timestamp_key:'9999-12-31 23:59:59'})[timestamp_key]\n",
    "    t_cb = triangle.get_edge_data(c, b, default={timestamp_key:'9999-12-31 23:59:59'})[timestamp_key]\n",
    "    \n",
    "    birth_bc = min(t_bc,t_cb)\n",
    "    \n",
    "    early_opening_time = max(birth_ab, birth_bc)\n",
    "   \n",
    "    return early_opening_time, early_closing_time"
   ]
  },
  {
   "cell_type": "code",
   "execution_count": null,
   "id": "0665ee00-8fc3-493d-be1f-029da8f553c6",
   "metadata": {},
   "outputs": [],
   "source": [
    "save_name = \"karate\"#args.save_name #\"osf_test\"\n",
    "save_path = \"demofiles/triadic_data/karate_2023-09-12 11-25-35/karate_main/karate_main_2017-11-28 00:00:00/karate_main_2017-11-28 00:00:00_MY_SNAP_SETTINGS.json\""
   ]
  },
  {
   "cell_type": "code",
   "execution_count": null,
   "id": "61a18331-3a29-44a8-a14c-3bf5fcaaca82",
   "metadata": {},
   "outputs": [],
   "source": [
    "from datetime import datetime\n",
    "\n",
    "import pandas as pd\n",
    "\n",
    "from collections import defaultdict\n",
    "\n",
    "#for k, fname in result_files.items():\n",
    "k = save_name\n",
    "fname = save_path\n",
    "\n",
    "print(k)\n",
    "census = defaultdict(int)  \n",
    "triadic_closure_delays_days = defaultdict(int)\n",
    "time_closure = defaultdict(int)\n",
    "how_many_instant = 0\n",
    "\n",
    "agg = enum_commons.load_census_results(SNAP_SETTINGS_PATH=fname)\n",
    "total = sum([v for k,v in agg[\"census\"].items() if mapping_census_to_baseline[k] in [6,7,8,9,10,11,12] ])\n",
    "\n",
    "# for triangle in tqdm(get_stored_triads_debug(fname),total=total ):\n",
    "for triangle in tqdm(enum_commons.get_stored_triads(fname),total=total ):\n",
    "    # triangle is a nx graph , subgraph from the snapshot\n",
    "    # here i show example of triadic census, we can do what we want here\n",
    "    #tt = directed_census_utils.get_tricode_name(triangle)#.get_triad_type(triangle, v,u,w)\n",
    "    # census[tt] +=1 \n",
    "    \n",
    "    res, edges_by_time = directed_census_utils.define_triad_order_new_timestamp_key(triangle, timestamp_key ='timestamp')\n",
    "    t0,t1 = get_early_times_for_delay(triangle, res[\"ordered_triad\"], edges_by_time, timestamp_key=\"timestamp\")\n",
    "\n",
    "    time_closure[t1]+=1\n",
    "\n",
    "    delta = pd.Timestamp(t1) - pd.Timestamp(t0) #datetime.strptime(day1, '%Y-%m-%d')  - datetime.strptime(day0, '%Y-%m-%d')\n",
    "    delta_days = delta.days\n",
    "    triadic_closure_delays_days[delta_days] +=1\n",
    "\n",
    "    if delta.total_seconds() == 0:\n",
    "        how_many_instant += 1\n",
    "\n",
    "    #break\n",
    "#census\n",
    "\n",
    "#how_many_instant\n",
    "triadic_closure_delays_days = dict(sorted(triadic_closure_delays_days.items()))\n",
    "time_closure = dict(sorted(time_closure.items()))\n",
    "\n",
    "infos_delay = {\n",
    "    \"how_many_instant\":how_many_instant, \n",
    "    \"triadic_closure_delays_days\":triadic_closure_delays_days,\n",
    "    \"time_closure\":time_closure \n",
    "}\n",
    "\n",
    "import pickle\n",
    "with open(f\"demofiles/triadic_data_delays/{k}.pkl\",\"wb+\") as f:\n",
    "    pickle.dump(infos_delay,f)"
   ]
  },
  {
   "cell_type": "code",
   "execution_count": null,
   "id": "d7278ffc-aad2-4eb6-a2aa-f7c8ef19e25b",
   "metadata": {},
   "outputs": [],
   "source": [
    "import pickle"
   ]
  },
  {
   "cell_type": "code",
   "execution_count": null,
   "id": "8c9c7902-5647-4337-955c-abb2169dda04",
   "metadata": {},
   "outputs": [],
   "source": [
    "from collections import defaultdict"
   ]
  },
  {
   "cell_type": "code",
   "execution_count": null,
   "id": "547da6ab-39f3-4a0d-b0d8-95838721e1f7",
   "metadata": {},
   "outputs": [],
   "source": [
    "info_delays_all = {}\n",
    "datasets = [\"karate\"]#\"osf\"\n",
    "for k in datasets:\n",
    "    with open(f\"demofiles/triadic_data_delays/{k}.pkl\",\"rb\") as f:\n",
    "        info_delays_all[k] = pickle.load(f)"
   ]
  },
  {
   "cell_type": "code",
   "execution_count": null,
   "id": "70427fae-298d-4444-bc3e-8b1f1f619eb6",
   "metadata": {
    "tags": []
   },
   "outputs": [],
   "source": [
    "for k in info_delays_all:\n",
    "    print(k)\n",
    "    selected = info_delays_all[k]  \n",
    "    \n",
    "    # fix closures day because currently is closures per timestamp\n",
    "    day_closure= defaultdict(int)\n",
    "    \n",
    "    for d,v in selected[\"time_closure\"].items():\n",
    "        day_closure[d[:10]] += v\n",
    "        \n",
    "    info_delays_all[k][\"day_closure\"] = day_closure"
   ]
  },
  {
   "cell_type": "code",
   "execution_count": null,
   "id": "be528c1f-38b6-47e1-aab0-dbee630fabec",
   "metadata": {},
   "outputs": [],
   "source": [
    "import numpy as np"
   ]
  },
  {
   "cell_type": "code",
   "execution_count": null,
   "id": "80a69c4d-63a3-4f2f-afae-1bea80ca7fb4",
   "metadata": {},
   "outputs": [],
   "source": [
    "for k in info_delays_all:\n",
    "    # print(k)\n",
    "    selected = info_delays_all[k]  \n",
    "    #print(selected[\"how_many_instant\"])\n",
    "    \n",
    "    day_closure = selected[\"day_closure\"]\n",
    "    \n",
    "    y = list(day_closure.values())\n",
    "    \n",
    "    print(f\"In {k} we have {len(y)} days with at least a triadic closure, with a total of {sum(y)} closures, with an average of {np.average(y):.2f} and a peak of {np.max(y)} in the same day. \")\n",
    "    \n",
    "    print()\n",
    "    \n",
    "    triadic_closure_delays_days = selected[\"triadic_closure_delays_days\"]\n",
    "    x = list(triadic_closure_delays_days.keys())\n",
    "    \n",
    "    print(f\"In {k} maximum delay observed is {max(x)} days, while we can observe the CDF to get an idea of how they are distributed.\")\n",
    "    print()"
   ]
  },
  {
   "cell_type": "code",
   "execution_count": null,
   "id": "5a44e479-0507-4aff-abad-35943c049a9c",
   "metadata": {
    "tags": []
   },
   "outputs": [],
   "source": [
    "#increase font size of all elements\n",
    "sns.set(font_scale=1.2)\n",
    "sns.set_style(\"whitegrid\")"
   ]
  },
  {
   "cell_type": "code",
   "execution_count": null,
   "id": "84e25aac-6025-4b3a-9422-e3fc209b0031",
   "metadata": {},
   "outputs": [],
   "source": [
    "focus=\"triads-delay\"\n",
    "for k in info_delays_all:\n",
    "    print(k)\n",
    "    selected = info_delays_all[k] \n",
    "    triadic_closure_delays_days = selected[\"triadic_closure_delays_days\"]\n",
    "\n",
    "    x = [ pair[0] for pair in triadic_closure_delays_days.items()]\n",
    "    y = [ pair[1] for pair in triadic_closure_delays_days.items()]\n",
    "    y = np.cumsum([ pair[1] for pair in sorted(triadic_closure_delays_days.items())])/sum([ pair[1] for pair in triadic_closure_delays_days.items()])\n",
    "\n",
    "    plt.figure(figsize=(6,4))\n",
    "    plt.plot(x,y,color=None, lw = 5)\n",
    "\n",
    "    # line_dates=[4,8,12,20,30]\n",
    "    # for l in line_dates:\n",
    "    #     plt.axvline(l,color='r',alpha=0.5)\n",
    "    \n",
    "    # plt.xlim((0.1,None))\n",
    "    plt.ylim((0,1))\n",
    "    plt.xscale(\"log\")\n",
    "    plt.grid()\n",
    "    \n",
    "    # ax = plt.gca()\n",
    "    # #ax.get_xaxis().set_minor_locator(mpl.ticker.AutoMinorLocator())\n",
    "    # ax.get_yaxis().set_minor_locator(mpl.ticker.AutoMinorLocator())\n",
    "    # ax.grid(visible=True, which='major', color='darkgrey', linewidth=1.0)\n",
    "    # ax.grid(visible=True, which='minor', color='darkgrey', linewidth=0.5)\n",
    "    \n",
    "    save_current_image_in_folder(fname=f\"{k}-{focus}\", folder_path=\".\")\n",
    "    \n",
    "    plt.show()"
   ]
  },
  {
   "cell_type": "code",
   "execution_count": null,
   "id": "514a209c-8bae-462e-a333-c30416d199c5",
   "metadata": {},
   "outputs": [],
   "source": [
    "datasets = {\n",
    "    \"karate\":\"./demofiles/preprocessed/karate/karate_edges.csv.gz\"\n",
    "}"
   ]
  },
  {
   "cell_type": "code",
   "execution_count": null,
   "id": "40922d0a-9d92-4ac5-860a-463df5c20b65",
   "metadata": {},
   "outputs": [],
   "source": [
    "from collections import Counter, defaultdict, OrderedDict\n",
    "\n",
    "links_per_day_all = {}\n",
    "\n",
    "for k,v in datasets.items():\n",
    "    # save_name = k\n",
    "    dataset = v\n",
    "    \n",
    "    PROCESSED_DATA_FILEPATH = dataset = v #\"/data-restricted/home/cheick_ba/safe_datasets_on_nas/safe_datasets/processed/imc22/preprocessed/OSF/OSF.csv.gz\"\n",
    "\n",
    "    transactions = glib_storage.load_transactions_dataframe(PROCESSED_DATA_FILEPATH)\n",
    "    \n",
    "    link_timeday = list(transactions.groupby(['from', 'to'])['timestamp'].min().astype(str))#[0][:10]\n",
    "    \n",
    "    link_ts = [ t[:10] for t in link_timeday ]\n",
    "    \n",
    "    print(len(link_ts), len(set(link_ts))) # corresponds to every ts of the projected graph\n",
    "    \n",
    "    links_per_day = OrderedDict( sorted(Counter(link_ts).items() ))\n",
    "    \n",
    "    links_per_day_all[k] = links_per_day\n",
    "    #break\n"
   ]
  },
  {
   "cell_type": "code",
   "execution_count": null,
   "id": "eddc8dfe-04eb-41cc-b104-c8d782d3a60b",
   "metadata": {},
   "outputs": [],
   "source": [
    "import numpy as np\n",
    "from scipy.ndimage.filters import uniform_filter1d"
   ]
  },
  {
   "cell_type": "code",
   "execution_count": null,
   "id": "74f9b3ca-eb87-4ed0-901d-0787ef8e2a0c",
   "metadata": {},
   "outputs": [],
   "source": [
    "running_avg_window = 7"
   ]
  },
  {
   "cell_type": "code",
   "execution_count": null,
   "id": "4da45f40-d9d4-4833-9ef4-1575c110c63a",
   "metadata": {},
   "outputs": [],
   "source": [
    "focus = \"ratio\"\n",
    "for k in info_delays_all:\n",
    "    print(k)\n",
    "    \n",
    "    interval = 90\n",
    "    #plt.figure(figsize=(6,4))\n",
    "    fig, ax = plt.subplots(figsize=(8,5))      \n",
    "\n",
    "    # Closures per day\n",
    "    selected = info_delays_all[k]  \n",
    "    day_closure = selected[\"day_closure\"]\n",
    "    x2 = [ datetime.strptime(pair[0], '%Y-%m-%d') for pair in day_closure.items()]\n",
    "    y2 = [ pair[1] for pair in day_closure.items()]\n",
    "    \n",
    "    y2 = uniform_filter1d(y2, size = running_avg_window)\n",
    "    \n",
    "    plt.plot(x2,y2,alpha=0.9, color=\"tab:blue\", label=\"Triads\", zorder=1)\n",
    "    # plt.fill_between(x2, y2, alpha=0.4, color=\"tab:blue\", zorder=1)\n",
    "\n",
    "    # Links per day\n",
    "    links_per_day = links_per_day_all[k]\n",
    "    x = [ datetime.strptime(pair[0], '%Y-%m-%d') for pair in links_per_day.items()]\n",
    "    y = [ pair[1] for pair in links_per_day.items()]\n",
    "    y = uniform_filter1d(y, size = running_avg_window)\n",
    "    \n",
    "    plt.plot(x,y, alpha=0.9, color=\"tab:orange\", label=\"Links\", zorder=2)\n",
    "    # plt.fill_between(x, y, alpha=0.4, color=\"tab:orange\", zorder=2)\n",
    "    \n",
    "    \n",
    "    formatter = DateFormatter('%b %Y')\n",
    "    plt.gcf().axes[0].xaxis.set_major_formatter(formatter)\n",
    "    plt.gcf().axes[0].xaxis.set_major_locator(DayLocator(interval=interval))\n",
    "    #plt.gcf().axes[0].xaxis.grid(True, which=\"minor\")\n",
    "    #plt.gcf().autofmt_xdate()\n",
    "    plt.ylabel('Links and triads')\n",
    "\n",
    "    plt.xticks(rotation='-25', fontsize = 10)\n",
    "    plt.yscale(\"log\")\n",
    "    # plt.ticklabel_format(style='sci', axis='y', scilimits=(0,0), useMathText=True)\n",
    "\n",
    "    plt.legend(loc = \"upper left\")\n",
    "    # Ratio \n",
    "    \n",
    "    ax2 = ax.twinx()  # instantiate a second axes that shares the same x-axis\n",
    "    ax2.set_ylabel('Triads/Links')#, color=color)  # we already handled the x-label with ax1\n",
    "    \n",
    "    # Note: triangles / links. There cannot be a closure without links. We could have link not leading to closures, but it's unlikely.\n",
    "    # So we should have that len(triangles_per_day) <= len(links_per_day)\n",
    "    x3 = []\n",
    "    y3 = []\n",
    "    for d,v in links_per_day.items():\n",
    "        x3.append(d)\n",
    "        if d in day_closure:\n",
    "            n = day_closure[d]\n",
    "        else:\n",
    "            n = 0\n",
    "        ratio = n/v\n",
    "        y3.append(ratio)\n",
    "    x3 = [ datetime.strptime(d, '%Y-%m-%d') for d in x3]\n",
    "    y3 = uniform_filter1d(y3, size = running_avg_window)\n",
    "    \n",
    "    plt.plot(x3,y3,color=\"firebrick\", label=\"Ratio\", lw=2)\n",
    "    \n",
    "    plt.ylim((0,None))\n",
    "    # plt.grid()\n",
    "    plt.legend(loc=\"upper right\")\n",
    "    # ax = plt.gca()\n",
    "    # #ax.get_xaxis().set_minor_locator(mpl.ticker.AutoMinorLocator())\n",
    "    # ax.get_yaxis().set_minor_locator(mpl.ticker.AutoMinorLocator())\n",
    "    # ax.grid(visible=True, which='major', color='darkgrey', linewidth=1.0)\n",
    "    # ax.grid(visible=True, which='minor', color='darkgrey', linewidth=0.5)\n",
    "    \n",
    "    save_current_image_in_folder(fname=f\"{k}-{focus}\", folder_path=\".\")\n",
    "\n",
    "    plt.show()"
   ]
  },
  {
   "cell_type": "raw",
   "id": "7dede254-7fc0-4992-81ce-449641c03a6d",
   "metadata": {
    "tags": []
   },
   "source": [
    "! zip -r images.zip images/"
   ]
  },
  {
   "cell_type": "code",
   "execution_count": null,
   "id": "1a6eed66-a4cd-4d8c-a4d3-6c285b4ca124",
   "metadata": {},
   "outputs": [],
   "source": []
  },
  {
   "cell_type": "code",
   "execution_count": null,
   "id": "e962a0bf-b389-45c0-8c2f-a0b4cb1d7faa",
   "metadata": {},
   "outputs": [],
   "source": []
  },
  {
   "cell_type": "code",
   "execution_count": null,
   "id": "120d8146-8078-4207-858e-38aa1df84d4d",
   "metadata": {},
   "outputs": [],
   "source": []
  },
  {
   "cell_type": "code",
   "execution_count": null,
   "id": "1dffdd63-f449-4deb-b725-282987a7840f",
   "metadata": {},
   "outputs": [],
   "source": []
  }
 ],
 "metadata": {
  "kernelspec": {
   "display_name": "blockchainfork38",
   "language": "python",
   "name": "blockchainfork38"
  },
  "language_info": {
   "codemirror_mode": {
    "name": "ipython",
    "version": 3
   },
   "file_extension": ".py",
   "mimetype": "text/x-python",
   "name": "python",
   "nbconvert_exporter": "python",
   "pygments_lexer": "ipython3",
   "version": "3.8.10"
  }
 },
 "nbformat": 4,
 "nbformat_minor": 5
}
