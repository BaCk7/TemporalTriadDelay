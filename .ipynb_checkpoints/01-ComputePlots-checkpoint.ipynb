{
 "cells": [
  {
   "cell_type": "code",
   "execution_count": 1,
   "id": "85d094c4-f41e-4f88-8c2a-9e10346c3842",
   "metadata": {},
   "outputs": [],
   "source": [
    "DATA_PATH = \"/data-restricted/home/cheick_ba/safe_datasets_on_nas/safe_datasets/raw/\"#\"/home/jupyter-cheick_ba/nas/data_on_nas/datasets/raw/\""
   ]
  },
  {
   "cell_type": "code",
   "execution_count": 2,
   "id": "189c4bda-c3d5-4da0-892a-924d638b8698",
   "metadata": {},
   "outputs": [],
   "source": [
    "from utils import *"
   ]
  },
  {
   "cell_type": "markdown",
   "id": "ecf6fffc-a171-4daa-bc62-e587336cb6ec",
   "metadata": {
    "tags": []
   },
   "source": [
    "# Run a census"
   ]
  },
  {
   "cell_type": "code",
   "execution_count": 3,
   "id": "1c58e5f4-f25f-4f3e-8206-95f66ff41eab",
   "metadata": {},
   "outputs": [],
   "source": [
    "datasets = {\n",
    "    \"karate\": \"./demofiles/preprocessed/karate/karate_edges.csv.gz\",\n",
    "    \"testgraph\": \"./demofiles/preprocessed/testgraph/testgraph_edges.csv.gz\",\n",
    "}"
   ]
  },
  {
   "cell_type": "code",
   "execution_count": 4,
   "id": "d6027506-a93f-43d3-a468-e88deaed19c5",
   "metadata": {},
   "outputs": [],
   "source": [
    "save_path = \"demofiles/triadic_data/\"\n",
    "n_processes = 8\n"
   ]
  },
  {
   "cell_type": "code",
   "execution_count": null,
   "id": "d25e3bd9-a63c-4d71-a5c3-82a6968b01b7",
   "metadata": {
    "scrolled": true,
    "tags": []
   },
   "outputs": [
    {
     "name": "stdout",
     "output_type": "stream",
     "text": [
      "   from  to  timestamp\n",
      "0    32  14 2017-11-01\n",
      "(156, 3)\n",
      "digraph <class 'networkx.classes.digraph.DiGraph'>\n",
      "2017-11-29 00:00:00\n"
     ]
    },
    {
     "data": {
      "application/vnd.jupyter.widget-view+json": {
       "model_id": "e67168c4739f4172acc839356276310b",
       "version_major": 2,
       "version_minor": 0
      },
      "text/plain": [
       "  0%|          | 0/152 [00:00<?, ?it/s]"
      ]
     },
     "metadata": {},
     "output_type": "display_data"
    },
    {
     "name": "stdout",
     "output_type": "stream",
     "text": [
      "DiGraph with 34 nodes and 152 edges\n",
      "No shuffling function specified!!!\n",
      "2023-11-29 12-51-01\n",
      "Creating: /data-restricted/home/cheick_ba/data_on_nas/archived/triadi_osnem/TemporalTriadDelay/demofiles/triadic_data/karate_2023-11-29 12-51-01\n",
      "/data-restricted/home/cheick_ba/data_on_nas/archived/triadi_osnem/TemporalTriadDelay/demofiles/triadic_data/karate_2023-11-29 12-51-01 e poi karate_main\n",
      "2023-11-29 12:51:01.443768 Starting new_generate_snapshot\n",
      "Creating: /data-restricted/home/cheick_ba/data_on_nas/archived/triadi_osnem/TemporalTriadDelay/demofiles/triadic_data/karate_2023-11-29 12-51-01\n",
      "Folder: /data-restricted/home/cheick_ba/data_on_nas/archived/triadi_osnem/TemporalTriadDelay/demofiles/triadic_data/karate_2023-11-29 12-51-01 already exists, we are going on\n",
      "\n",
      "Creating: /data-restricted/home/cheick_ba/data_on_nas/archived/triadi_osnem/TemporalTriadDelay/demofiles/triadic_data/karate_2023-11-29 12-51-01/karate_main/\n",
      "2023-11-29 12:51:01.447139 Starting make_mapping_user_id\n",
      "2023-11-29 12:51:01.452552 Completed make_mapping_user_id in  0.004907131195068359\n",
      "2023-11-29 12:51:01.452720 Starting make_timestamp_map\n",
      "NOTE: timestamps will start from 1\n",
      "2023-11-29 12:51:01.455160 Completed make_timestamp_map in  0.0023756027221679688\n",
      "timestamp limit was not defined, we use all data so limit is: 2017-11-28 00:00:00\n",
      "\n",
      "karate_main_2017-11-28 00:00:00\n",
      "\n",
      "2023-11-29 12:51:01.456117 Starting generate_snapshot\n",
      "2023-11-29 12:51:01.456195 t <=  2017-11-28 00:00:00\n",
      "2023-11-29 12:51:01.456768 Snapshot till 2017-11-28 00:00:00 ord/size: 34 152\n",
      "2023-11-29 12:51:01.456964 Completed generate_snapshot in  0.0007803440093994141\n",
      "2023-11-29 12:51:01.457090 Starting preprocess_snapshot\n",
      "Successfully created the directory /data-restricted/home/cheick_ba/data_on_nas/archived/triadi_osnem/TemporalTriadDelay/demofiles/triadic_data/karate_2023-11-29 12-51-01/karate_main//karate_main_2017-11-28 00:00:00 \n",
      "2023-11-29 12:51:01.460552 Starting make_mapped_graph\n",
      "2023-11-29 12:51:01.464778 Completed make_mapped_graph in  0.0041501522064208984\n",
      "2023-11-29 12:51:01.464953 Starting get_neighborhoods\n",
      "2023-11-29 12:51:01.468096 Completed get_neighborhoods in  0.003070831298828125\n",
      "2023-11-29 12:51:01.468255 Starting calc_pagerank_elite\n",
      "2023-11-29 12:51:01.477723 Completed calc_pagerank_elite in  0.009397506713867188\n",
      "2023-11-29 12:51:01.477821 Starting calc_outdegree_elite\n",
      "2023-11-29 12:51:01.483635 Completed calc_outdegree_elite in  0.005604743957519531\n",
      "2023-11-29 12:51:01.483737 Completed preprocess_snapshot in  0.026569128036499023\n",
      "Graph name without extension: /data-restricted/home/cheick_ba/data_on_nas/archived/triadi_osnem/TemporalTriadDelay/demofiles/triadic_data/karate_2023-11-29 12-51-01/karate_main//karate_main_2017-11-28 00:00:00/karate_main_2017-11-28 00:00:00\n",
      "Reading graph: /data-restricted/home/cheick_ba/data_on_nas/archived/triadi_osnem/TemporalTriadDelay/demofiles/triadic_data/karate_2023-11-29 12-51-01/karate_main//karate_main_2017-11-28 00:00:00/karate_main_2017-11-28 00:00:00_mapped.pkl\n",
      "Converting to Matrix\n",
      "Get the new indices\n",
      "MB: 0.001293182373046875\n",
      "Dropping graph variable\n",
      "Saving Matrix\n",
      "Saving new indices\n",
      "2023-11-29 12:51:01.521801 Completed new_generate_snapshot in  0.0777442455291748\n",
      "\n",
      "Starting parallel census function\n",
      "Creating: /data-restricted/home/cheick_ba/data_on_nas/archived/triadi_osnem/TemporalTriadDelay/demofiles/triadic_data/karate_2023-11-29 12-51-01/karate_main//karate_main_2017-11-28 00:00:00/karate_main_2017-11-28 00:00:00_census_list\n",
      "storage_path: /data-restricted/home/cheick_ba/data_on_nas/archived/triadi_osnem/TemporalTriadDelay/demofiles/triadic_data/karate_2023-11-29 12-51-01/karate_main//karate_main_2017-11-28 00:00:00/karate_main_2017-11-28 00:00:00_triads\n",
      "Creating: /data-restricted/home/cheick_ba/data_on_nas/archived/triadi_osnem/TemporalTriadDelay/demofiles/triadic_data/karate_2023-11-29 12-51-01/karate_main//karate_main_2017-11-28 00:00:00/karate_main_2017-11-28 00:00:00_triads\n",
      "log_folder_path: /data-restricted/home/cheick_ba/data_on_nas/archived/triadi_osnem/TemporalTriadDelay/demofiles/triadic_data/karate_2023-11-29 12-51-01/karate_main//karate_main_2017-11-28 00:00:00/karate_main_2017-11-28 00:00:00_logs\n",
      "Creating: /data-restricted/home/cheick_ba/data_on_nas/archived/triadi_osnem/TemporalTriadDelay/demofiles/triadic_data/karate_2023-11-29 12-51-01/karate_main//karate_main_2017-11-28 00:00:00/karate_main_2017-11-28 00:00:00_logs\n",
      "processes 8\n",
      "Chunk size 2\n",
      "TOTAL CHUNKS ADJUSTED: 17\n",
      "2023-11-29 12:51:01.594320  Starting with #Chunks: 32\n"
     ]
    },
    {
     "data": {
      "application/vnd.jupyter.widget-view+json": {
       "model_id": "ff31b62bb2ab4972b6a098014ac14a23",
       "version_major": 2,
       "version_minor": 0
      },
      "text/plain": [
       "  0%|          | 0/32 [00:00<?, ?it/s]"
      ]
     },
     "metadata": {},
     "output_type": "display_data"
    },
    {
     "name": "stdout",
     "output_type": "stream",
     "text": [
      "2023-11-29 12:51:01.859376 MAIN: AGGREGATING RESULTS 2023-11-29 12:51:01.859382\n",
      "N is : 0\n",
      "/data-restricted/home/cheick_ba/data_on_nas/archived/triadi_osnem/TemporalTriadDelay/demofiles/triadic_data/karate_2023-11-29 12-51-01/results.json.gz\n",
      "                                         from  \\\n",
      "0  0x316c55d1895a085c4b39a98ecb563f509301aaf7   \n",
      "\n",
      "                                           to           timestamp    amount  \n",
      "0  0xba52c75764d6f594735dc735be7f1830cdf58ddf 2017-11-23 18:44:21  3.902311  \n",
      "(253100, 4)\n",
      "digraph <class 'networkx.classes.digraph.DiGraph'>\n",
      "2017-12-31 23:59:12\n"
     ]
    },
    {
     "data": {
      "application/vnd.jupyter.widget-view+json": {
       "model_id": "46ca8851a81d4bd0a6852028919bd0b9",
       "version_major": 2,
       "version_minor": 0
      },
      "text/plain": [
       "  0%|          | 0/253099 [00:00<?, ?it/s]"
      ]
     },
     "metadata": {},
     "output_type": "display_data"
    },
    {
     "name": "stdout",
     "output_type": "stream",
     "text": [
      "DiGraph with 56251 nodes and 232028 edges\n",
      "No shuffling function specified!!!\n",
      "2023-11-29 12-51-17\n",
      "Creating: /data-restricted/home/cheick_ba/data_on_nas/archived/triadi_osnem/TemporalTriadDelay/demofiles/triadic_data/testgraph_2023-11-29 12-51-17\n",
      "/data-restricted/home/cheick_ba/data_on_nas/archived/triadi_osnem/TemporalTriadDelay/demofiles/triadic_data/testgraph_2023-11-29 12-51-17 e poi testgraph_main\n",
      "2023-11-29 12:51:17.104903 Starting new_generate_snapshot\n",
      "Creating: /data-restricted/home/cheick_ba/data_on_nas/archived/triadi_osnem/TemporalTriadDelay/demofiles/triadic_data/testgraph_2023-11-29 12-51-17\n",
      "Folder: /data-restricted/home/cheick_ba/data_on_nas/archived/triadi_osnem/TemporalTriadDelay/demofiles/triadic_data/testgraph_2023-11-29 12-51-17 already exists, we are going on\n",
      "\n",
      "Creating: /data-restricted/home/cheick_ba/data_on_nas/archived/triadi_osnem/TemporalTriadDelay/demofiles/triadic_data/testgraph_2023-11-29 12-51-17/testgraph_main/\n",
      "2023-11-29 12:51:17.108115 Starting make_mapping_user_id\n",
      "2023-11-29 12:51:17.409518 Completed make_mapping_user_id in  0.301363468170166\n",
      "2023-11-29 12:51:17.410727 Starting make_timestamp_map\n",
      "NOTE: timestamps will start from 1\n",
      "2023-11-29 12:51:17.785516 Completed make_timestamp_map in  0.3740193843841553\n",
      "timestamp limit was not defined, we use all data so limit is: 2017-12-31 23:57:54\n",
      "\n",
      "testgraph_main_2017-12-31 23:57:54\n",
      "\n",
      "2023-11-29 12:51:17.793120 Starting generate_snapshot\n",
      "2023-11-29 12:51:17.794200 t <=  2017-12-31 23:57:54\n",
      "2023-11-29 12:51:18.658310 Snapshot till 2017-12-31 23:57:54 ord/size: 56251 232028\n",
      "2023-11-29 12:51:18.696437 Completed generate_snapshot in  0.9022815227508545\n",
      "2023-11-29 12:51:18.696520 Starting preprocess_snapshot\n",
      "Successfully created the directory /data-restricted/home/cheick_ba/data_on_nas/archived/triadi_osnem/TemporalTriadDelay/demofiles/triadic_data/testgraph_2023-11-29 12-51-17/testgraph_main//testgraph_main_2017-12-31 23:57:54 \n",
      "2023-11-29 12:51:18.700667 Starting make_mapped_graph\n",
      "2023-11-29 12:51:20.069584 Completed make_mapped_graph in  1.368889570236206\n",
      "2023-11-29 12:51:20.070734 Starting get_neighborhoods\n",
      "2023-11-29 12:51:20.963263 Completed get_neighborhoods in  0.8924119472503662\n",
      "2023-11-29 12:51:20.980620 Starting calc_pagerank_elite\n",
      "2023-11-29 12:51:22.108049 Completed calc_pagerank_elite in  1.1273338794708252\n",
      "2023-11-29 12:51:22.108191 Starting calc_outdegree_elite\n",
      "2023-11-29 12:51:22.152290 Completed calc_outdegree_elite in  0.042584896087646484\n",
      "2023-11-29 12:51:22.237086 Completed preprocess_snapshot in  3.540335178375244\n",
      "Graph name without extension: /data-restricted/home/cheick_ba/data_on_nas/archived/triadi_osnem/TemporalTriadDelay/demofiles/triadic_data/testgraph_2023-11-29 12-51-17/testgraph_main//testgraph_main_2017-12-31 23:57:54/testgraph_main_2017-12-31 23:57:54\n",
      "Reading graph: /data-restricted/home/cheick_ba/data_on_nas/archived/triadi_osnem/TemporalTriadDelay/demofiles/triadic_data/testgraph_2023-11-29 12-51-17/testgraph_main//testgraph_main_2017-12-31 23:57:54/testgraph_main_2017-12-31 23:57:54_mapped.pkl\n",
      "Converting to Matrix\n",
      "Get the new indices\n",
      "MB: 1.9848175048828125\n",
      "Dropping graph variable\n",
      "Saving Matrix\n",
      "Saving new indices\n",
      "2023-11-29 12:51:24.955532 Completed new_generate_snapshot in  7.850414752960205\n",
      "\n",
      "Starting parallel census function\n",
      "Creating: /data-restricted/home/cheick_ba/data_on_nas/archived/triadi_osnem/TemporalTriadDelay/demofiles/triadic_data/testgraph_2023-11-29 12-51-17/testgraph_main//testgraph_main_2017-12-31 23:57:54/testgraph_main_2017-12-31 23:57:54_census_list\n",
      "storage_path: /data-restricted/home/cheick_ba/data_on_nas/archived/triadi_osnem/TemporalTriadDelay/demofiles/triadic_data/testgraph_2023-11-29 12-51-17/testgraph_main//testgraph_main_2017-12-31 23:57:54/testgraph_main_2017-12-31 23:57:54_triads\n",
      "Creating: /data-restricted/home/cheick_ba/data_on_nas/archived/triadi_osnem/TemporalTriadDelay/demofiles/triadic_data/testgraph_2023-11-29 12-51-17/testgraph_main//testgraph_main_2017-12-31 23:57:54/testgraph_main_2017-12-31 23:57:54_triads\n",
      "log_folder_path: /data-restricted/home/cheick_ba/data_on_nas/archived/triadi_osnem/TemporalTriadDelay/demofiles/triadic_data/testgraph_2023-11-29 12-51-17/testgraph_main//testgraph_main_2017-12-31 23:57:54/testgraph_main_2017-12-31 23:57:54_logs\n",
      "Creating: /data-restricted/home/cheick_ba/data_on_nas/archived/triadi_osnem/TemporalTriadDelay/demofiles/triadic_data/testgraph_2023-11-29 12-51-17/testgraph_main//testgraph_main_2017-12-31 23:57:54/testgraph_main_2017-12-31 23:57:54_logs\n",
      "processes 8\n",
      "Chunk size 1758\n",
      "TOTAL CHUNKS ADJUSTED: 32\n",
      "2023-11-29 12:51:25.076327  Starting with #Chunks: 32\n"
     ]
    },
    {
     "data": {
      "application/vnd.jupyter.widget-view+json": {
       "model_id": "cc3a0d5aab204fad80c7cc3c2269efc7",
       "version_major": 2,
       "version_minor": 0
      },
      "text/plain": [
       "  0%|          | 0/32 [00:00<?, ?it/s]"
      ]
     },
     "metadata": {},
     "output_type": "display_data"
    }
   ],
   "source": [
    "mega_results = {}\n",
    "for selected_dataset in datasets:\n",
    "    \n",
    "    save_name = selected_dataset\n",
    "    transaction_filepath = datasets[selected_dataset]\n",
    "\n",
    "    # Construct the graph (networkx)\n",
    "    G = build_graph(transaction_filepath, start_time = None, end_time = None)\n",
    "\n",
    "    # Just a census\n",
    "    results = census_functions.parallel_triadic_census_plain(G, save_name, \n",
    "                                                         folder=save_path, store_closed=True, n_processes=8)\n",
    "    \n",
    "    \n",
    "    # A census + N time shuffled census runs\n",
    "    #results = census_functions.parallel_triadic_census_shuffled(G, save_name, \n",
    "                                                            #shuffle_type=\"time\", N=3, \n",
    "                                                            #folder=save_path, store_closed=True, n_processes=2)\n",
    "    # A census + N structure shuffled census runs\n",
    "    #results = census_functions.parallel_triadic_census_shuffled(G, save_name, \n",
    "                                                            #shuffle_type=\"structure\", N=3, shuffle_nswapfraction=0.3,\n",
    "                                                            #folder=save_path, store_closed=True, n_processes=2)\n",
    "    \n",
    "    # A census + N time and structure shuffled census runs\n",
    "    #results = census_functions.parallel_triadic_census_shuffled(G, save_name, \n",
    "                                                            #shuffle_type=\"time_structure\", N=3, shuffle_nswapfraction=0.3,\n",
    "                                                            #folder=save_path, store_closed=True, n_processes=2)\n",
    "    \n",
    "    # Save original G --- not the best spot, but needed for enumeration\n",
    "    #GRAPH_PATH = os.path.join(results[\"folder_exp\"],\"graph.lzma\")\n",
    "    #glib_storage.save_snapshot_lzma(G, GRAPH_PATH)   \n",
    "    \n",
    "    mega_results[save_name] = results"
   ]
  },
  {
   "cell_type": "markdown",
   "id": "00bf1e65-8e6a-415b-b50a-9a45426c70c6",
   "metadata": {},
   "source": [
    "Plots"
   ]
  },
  {
   "cell_type": "code",
   "execution_count": null,
   "id": "a721dad4-e9d7-415f-98d0-550107bb913b",
   "metadata": {
    "scrolled": true,
    "tags": []
   },
   "outputs": [],
   "source": [
    "for focus in [\"closed\",\"open\", \"evolutions_new\"]:\n",
    "\n",
    "    for k,agg in mega_results.items():\n",
    "        print(k)\n",
    "        aggregated = agg[\"main\"][\"aggregated_results\"]\n",
    "\n",
    "        if focus == \"open\":\n",
    "            cnt = agg_funcs.get_census_open(aggregated)\n",
    "            plot_open(cnt, k, focus)\n",
    "            \n",
    "        if focus == \"closed\":\n",
    "            cnt = agg_funcs.get_census_closed(aggregated)\n",
    "\n",
    "            plot_closed(cnt, k, focus)\n",
    "            \n",
    "        if focus == \"evolutions_new\":\n",
    "            evolutions = aggregated['evolutions']\n",
    "            cnt = { (k[0],k[1:]):v for k,v in evolutions.items()}\n",
    "            cnt = OrderedDict(sorted(cnt.items(), key= lambda v: ( int(v[0][0]),int(v[0][1]))))\n",
    "            plot_evolutions(cnt, k, focus)\n",
    "            "
   ]
  },
  {
   "cell_type": "markdown",
   "id": "dd50083a-2019-47ad-8015-ac07b6dd4e08",
   "metadata": {},
   "source": [
    "# Temporal delay measures"
   ]
  },
  {
   "cell_type": "code",
   "execution_count": null,
   "id": "93f0691d-99d6-4e13-97c5-4c626ba602aa",
   "metadata": {},
   "outputs": [],
   "source": [
    "delay_data = {}\n",
    "\n",
    "for selected_dataset in datasets:\n",
    "    \n",
    "    result_path = mega_results[selected_dataset][\"main\"][\"result_path\"]\n",
    "    \n",
    "    infos_delay = triad_metrics.compute_triadic_closure_delays(save_name, result_path)\n",
    "    links_per_day = triad_metrics.compute_links_per_day(result_path, timestamp_key=\"timestamp\")\n",
    "    \n",
    "    delay_data[selected_dataset] = {\"info_delays\": infos_delay, \"links_per_day\":links_per_day}\n"
   ]
  },
  {
   "cell_type": "code",
   "execution_count": null,
   "id": "734c59c3-ff0a-47a8-be09-d636cbb5d89a",
   "metadata": {},
   "outputs": [],
   "source": [
    "for k, data in delay_data.items():\n",
    "    #increase font size of all elements\n",
    "    sns.set(font_scale=1.2)\n",
    "    sns.set_style(\"whitegrid\")\n",
    "\n",
    "    plot_triads_delay(data, save_name)"
   ]
  },
  {
   "cell_type": "code",
   "execution_count": null,
   "id": "bd00ae4d-8b0b-4687-838b-b96b416af713",
   "metadata": {},
   "outputs": [],
   "source": [
    "for k, data in delay_data.items():\n",
    "    #increase font size of all elements\n",
    "    sns.set(font_scale=1.2)\n",
    "    sns.set_style(\"whitegrid\")\n",
    "    plot_ratio(data, save_name = k)"
   ]
  },
  {
   "cell_type": "raw",
   "id": "7dede254-7fc0-4992-81ce-449641c03a6d",
   "metadata": {
    "tags": []
   },
   "source": [
    "! zip -r images.zip images/"
   ]
  },
  {
   "cell_type": "code",
   "execution_count": null,
   "id": "1a6eed66-a4cd-4d8c-a4d3-6c285b4ca124",
   "metadata": {},
   "outputs": [],
   "source": []
  },
  {
   "cell_type": "code",
   "execution_count": null,
   "id": "e962a0bf-b389-45c0-8c2f-a0b4cb1d7faa",
   "metadata": {},
   "outputs": [],
   "source": []
  },
  {
   "cell_type": "code",
   "execution_count": null,
   "id": "120d8146-8078-4207-858e-38aa1df84d4d",
   "metadata": {},
   "outputs": [],
   "source": []
  },
  {
   "cell_type": "code",
   "execution_count": null,
   "id": "1dffdd63-f449-4deb-b725-282987a7840f",
   "metadata": {},
   "outputs": [],
   "source": []
  }
 ],
 "metadata": {
  "kernelspec": {
   "display_name": "blockchainfork38",
   "language": "python",
   "name": "blockchainfork38"
  },
  "language_info": {
   "codemirror_mode": {
    "name": "ipython",
    "version": 3
   },
   "file_extension": ".py",
   "mimetype": "text/x-python",
   "name": "python",
   "nbconvert_exporter": "python",
   "pygments_lexer": "ipython3",
   "version": "3.8.10"
  }
 },
 "nbformat": 4,
 "nbformat_minor": 5
}
