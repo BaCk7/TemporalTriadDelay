{
 "cells": [
  {
   "cell_type": "markdown",
   "id": "675aa6d3-217e-418a-82e7-ed48730d6889",
   "metadata": {},
   "source": [
    "# Demo graphs"
   ]
  },
  {
   "cell_type": "code",
   "execution_count": 16,
   "id": "0fecd855-d52a-47f0-bf03-2e2392f11ab7",
   "metadata": {},
   "outputs": [],
   "source": [
    "PROCESSED_DATA_PATH = \"./demofiles/preprocessed/\"#/data-restricted/home/cheick_ba/safe_datasets_on_nas/safe_datasets/processed/osnemtriad/preprocessed/\"#\"/home/jupyter-cheick_ba/nas/data_on_nas/datasets/processed/osnemtriad/preprocessed\""
   ]
  },
  {
   "cell_type": "code",
   "execution_count": 15,
   "id": "c591d8ab-2074-428f-a19f-f9355082c832",
   "metadata": {},
   "outputs": [],
   "source": [
    "from utils import *"
   ]
  },
  {
   "cell_type": "code",
   "execution_count": 17,
   "id": "5c9dda8f-6e56-415e-ba6a-8931b5bd463d",
   "metadata": {},
   "outputs": [],
   "source": [
    "import networkx as nx\n",
    "import pandas as pd\n",
    "rows = []\n",
    "G = nx.karate_club_graph().to_directed()\n",
    "\n",
    "import random\n",
    "\n",
    "for e in G.edges():\n",
    "    u, w = e\n",
    "    t =  f'2017-11-{random.choice(range(1,30)) } 00:00:00'\n",
    "    G[u][w][\"t\"] = t\n",
    "    rows.append( (u,w,t) )\n",
    "    \n",
    "    #nx.write_gpickle(G,\"demofiles/karaatetestgraph.gpickle\")"
   ]
  },
  {
   "cell_type": "code",
   "execution_count": 18,
   "id": "50dfe4f6-9be1-4757-aa00-3d2a72cfb5bd",
   "metadata": {},
   "outputs": [],
   "source": [
    "ks = [\"a\",\"b\",\"c\"]\n",
    "df = pd.DataFrame(rows, columns=ks)"
   ]
  },
  {
   "cell_type": "code",
   "execution_count": 19,
   "id": "d6211273-b45f-46c8-9450-27ef25db95ff",
   "metadata": {},
   "outputs": [
    {
     "name": "stdout",
     "output_type": "stream",
     "text": [
      "     from  to           timestamp\n",
      "129    32  14  2017-11-1 00:00:00\n",
      "(156, 3)\n",
      "./demofiles/preprocessed/karate/karate_edges.csv.gz\n"
     ]
    },
    {
     "data": {
      "text/plain": [
       "'./demofiles/preprocessed/karate/karate_edges.csv.gz'"
      ]
     },
     "execution_count": 19,
     "metadata": {},
     "output_type": "execute_result"
    }
   ],
   "source": [
    "store_csv(df = df, #df_standard, \n",
    "              PROCESSED_DATA_PATH = PROCESSED_DATA_PATH, \n",
    "              DATASET_NAME = \"karate\", \n",
    "              suffix=\"_edges\",\n",
    "              keys= ks,\n",
    "              rename_as= [\"from\", \"to\",\"timestamp\"])"
   ]
  }
 ],
 "metadata": {
  "kernelspec": {
   "display_name": "blockchainfork38",
   "language": "python",
   "name": "blockchainfork38"
  },
  "language_info": {
   "codemirror_mode": {
    "name": "ipython",
    "version": 3
   },
   "file_extension": ".py",
   "mimetype": "text/x-python",
   "name": "python",
   "nbconvert_exporter": "python",
   "pygments_lexer": "ipython3",
   "version": "3.8.10"
  }
 },
 "nbformat": 4,
 "nbformat_minor": 5
}
