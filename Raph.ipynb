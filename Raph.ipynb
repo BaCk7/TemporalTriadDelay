{
 "cells": [
  {
   "cell_type": "markdown",
   "id": "c4d1cfa4",
   "metadata": {},
   "source": [
    "# Triadic census"
   ]
  },
  {
   "cell_type": "code",
   "execution_count": 21,
   "id": "46a5209a",
   "metadata": {},
   "outputs": [],
   "source": [
    "import raphtory as rp\n",
    "import pandas as pd"
   ]
  },
  {
   "cell_type": "code",
   "execution_count": 22,
   "id": "53a1dd82",
   "metadata": {},
   "outputs": [],
   "source": [
    "import raphtory as rp"
   ]
  },
  {
   "cell_type": "code",
   "execution_count": 23,
   "id": "af3ac7e6",
   "metadata": {},
   "outputs": [
    {
     "data": {
      "text/html": [
       "<div>\n",
       "<style scoped>\n",
       "    .dataframe tbody tr th:only-of-type {\n",
       "        vertical-align: middle;\n",
       "    }\n",
       "\n",
       "    .dataframe tbody tr th {\n",
       "        vertical-align: top;\n",
       "    }\n",
       "\n",
       "    .dataframe thead th {\n",
       "        text-align: right;\n",
       "    }\n",
       "</style>\n",
       "<table border=\"1\" class=\"dataframe\">\n",
       "  <thead>\n",
       "    <tr style=\"text-align: right;\">\n",
       "      <th></th>\n",
       "      <th>time</th>\n",
       "      <th>a</th>\n",
       "      <th>b</th>\n",
       "    </tr>\n",
       "  </thead>\n",
       "  <tbody>\n",
       "    <tr>\n",
       "      <th>0</th>\n",
       "      <td>1</td>\n",
       "      <td>1</td>\n",
       "      <td>2</td>\n",
       "    </tr>\n",
       "    <tr>\n",
       "      <th>1</th>\n",
       "      <td>1</td>\n",
       "      <td>2</td>\n",
       "      <td>3</td>\n",
       "    </tr>\n",
       "    <tr>\n",
       "      <th>2</th>\n",
       "      <td>1</td>\n",
       "      <td>3</td>\n",
       "      <td>1</td>\n",
       "    </tr>\n",
       "    <tr>\n",
       "      <th>3</th>\n",
       "      <td>2</td>\n",
       "      <td>3</td>\n",
       "      <td>4</td>\n",
       "    </tr>\n",
       "    <tr>\n",
       "      <th>4</th>\n",
       "      <td>2</td>\n",
       "      <td>4</td>\n",
       "      <td>1</td>\n",
       "    </tr>\n",
       "    <tr>\n",
       "      <th>5</th>\n",
       "      <td>2</td>\n",
       "      <td>4</td>\n",
       "      <td>2</td>\n",
       "    </tr>\n",
       "  </tbody>\n",
       "</table>\n",
       "</div>"
      ],
      "text/plain": [
       "   time  a  b\n",
       "0     1  1  2\n",
       "1     1  2  3\n",
       "2     1  3  1\n",
       "3     2  3  4\n",
       "4     2  4  1\n",
       "5     2  4  2"
      ]
     },
     "execution_count": 23,
     "metadata": {},
     "output_type": "execute_result"
    }
   ],
   "source": [
    "rows = [\n",
    "    (1, 1, 2),\n",
    "    (1, 2, 3),\n",
    "    (1, 3, 1),\n",
    "    (2, 3, 4),\n",
    "    (2, 4, 1),\n",
    "    (2, 4, 2)\n",
    "]\n",
    "\n",
    "ks = [\"time\",\"a\",\"b\"]\n",
    "df = pd.DataFrame(rows, columns=ks)\n",
    "df"
   ]
  },
  {
   "cell_type": "code",
   "execution_count": 24,
   "id": "208d3140",
   "metadata": {},
   "outputs": [],
   "source": [
    "g = rp.Graph()"
   ]
  },
  {
   "cell_type": "code",
   "execution_count": 25,
   "id": "98d22c2c",
   "metadata": {},
   "outputs": [
    {
     "data": {
      "application/vnd.jupyter.widget-view+json": {
       "model_id": "55ed1be4c9be49539d59009031b843f7",
       "version_major": 2,
       "version_minor": 0
      },
      "text/plain": [
       "HBox(children=(HTML(value=''), IntProgress(value=0, max=6), HTML(value='')))"
      ]
     },
     "metadata": {},
     "output_type": "display_data"
    }
   ],
   "source": [
    "g.load_edges_from_pandas(\n",
    "    df,\n",
    "    time='time',\n",
    "    src=\"a\",\n",
    "    dst=\"b\",\n",
    ")"
   ]
  },
  {
   "cell_type": "code",
   "execution_count": 26,
   "id": "1c1c0b54",
   "metadata": {},
   "outputs": [],
   "source": [
    "from raphtory.algorithms import global_triadic_census"
   ]
  },
  {
   "cell_type": "code",
   "execution_count": 27,
   "id": "da32bbce",
   "metadata": {},
   "outputs": [
    {
     "data": {
      "text/plain": [
       "{'300': 0,\n",
       " '111D': 0,\n",
       " '030C': 2,\n",
       " '201': 0,\n",
       " '021U': 0,\n",
       " '021C': 0,\n",
       " '030T': 2,\n",
       " '021D': 0,\n",
       " '120U': 0,\n",
       " '012': 0,\n",
       " '003': 0,\n",
       " '102': 0,\n",
       " '111U': 0,\n",
       " '120C': 0,\n",
       " '120D': 0,\n",
       " '210': 0}"
      ]
     },
     "execution_count": 27,
     "metadata": {},
     "output_type": "execute_result"
    }
   ],
   "source": [
    "global_triadic_census(g)"
   ]
  },
  {
   "cell_type": "markdown",
   "id": "171feee3",
   "metadata": {},
   "source": [
    "# Karate"
   ]
  },
  {
   "cell_type": "code",
   "execution_count": 28,
   "id": "446dbc1d",
   "metadata": {},
   "outputs": [],
   "source": [
    "import networkx as nx\n",
    "import pandas as pd\n",
    "import raphtory as rp\n",
    "import random\n",
    "from raphtory.algorithms import global_triadic_census"
   ]
  },
  {
   "cell_type": "code",
   "execution_count": 29,
   "id": "5eea7ab2",
   "metadata": {},
   "outputs": [],
   "source": [
    "G = nx.karate_club_graph().to_directed()"
   ]
  },
  {
   "cell_type": "code",
   "execution_count": 30,
   "id": "c9b754f5",
   "metadata": {},
   "outputs": [
    {
     "data": {
      "text/plain": [
       "{'003': 3971,\n",
       " '012': 0,\n",
       " '102': 1575,\n",
       " '021D': 0,\n",
       " '021U': 0,\n",
       " '021C': 0,\n",
       " '111D': 0,\n",
       " '111U': 0,\n",
       " '030T': 0,\n",
       " '030C': 0,\n",
       " '201': 393,\n",
       " '120D': 0,\n",
       " '120U': 0,\n",
       " '120C': 0,\n",
       " '210': 0,\n",
       " '300': 45}"
      ]
     },
     "execution_count": 30,
     "metadata": {},
     "output_type": "execute_result"
    }
   ],
   "source": [
    "nx.triadic_census(G)"
   ]
  },
  {
   "cell_type": "code",
   "execution_count": 31,
   "id": "772b01d3",
   "metadata": {},
   "outputs": [
    {
     "data": {
      "text/html": [
       "<div>\n",
       "<style scoped>\n",
       "    .dataframe tbody tr th:only-of-type {\n",
       "        vertical-align: middle;\n",
       "    }\n",
       "\n",
       "    .dataframe tbody tr th {\n",
       "        vertical-align: top;\n",
       "    }\n",
       "\n",
       "    .dataframe thead th {\n",
       "        text-align: right;\n",
       "    }\n",
       "</style>\n",
       "<table border=\"1\" class=\"dataframe\">\n",
       "  <thead>\n",
       "    <tr style=\"text-align: right;\">\n",
       "      <th></th>\n",
       "      <th>a</th>\n",
       "      <th>b</th>\n",
       "      <th>time</th>\n",
       "    </tr>\n",
       "  </thead>\n",
       "  <tbody>\n",
       "    <tr>\n",
       "      <th>0</th>\n",
       "      <td>0</td>\n",
       "      <td>1</td>\n",
       "      <td>2017-11-27</td>\n",
       "    </tr>\n",
       "    <tr>\n",
       "      <th>1</th>\n",
       "      <td>0</td>\n",
       "      <td>2</td>\n",
       "      <td>2017-11-02</td>\n",
       "    </tr>\n",
       "    <tr>\n",
       "      <th>2</th>\n",
       "      <td>0</td>\n",
       "      <td>3</td>\n",
       "      <td>2017-11-13</td>\n",
       "    </tr>\n",
       "    <tr>\n",
       "      <th>3</th>\n",
       "      <td>0</td>\n",
       "      <td>4</td>\n",
       "      <td>2017-11-16</td>\n",
       "    </tr>\n",
       "    <tr>\n",
       "      <th>4</th>\n",
       "      <td>0</td>\n",
       "      <td>5</td>\n",
       "      <td>2017-11-13</td>\n",
       "    </tr>\n",
       "    <tr>\n",
       "      <th>...</th>\n",
       "      <td>...</td>\n",
       "      <td>...</td>\n",
       "      <td>...</td>\n",
       "    </tr>\n",
       "    <tr>\n",
       "      <th>151</th>\n",
       "      <td>33</td>\n",
       "      <td>29</td>\n",
       "      <td>2017-11-19</td>\n",
       "    </tr>\n",
       "    <tr>\n",
       "      <th>152</th>\n",
       "      <td>33</td>\n",
       "      <td>30</td>\n",
       "      <td>2017-11-07</td>\n",
       "    </tr>\n",
       "    <tr>\n",
       "      <th>153</th>\n",
       "      <td>33</td>\n",
       "      <td>31</td>\n",
       "      <td>2017-11-13</td>\n",
       "    </tr>\n",
       "    <tr>\n",
       "      <th>154</th>\n",
       "      <td>33</td>\n",
       "      <td>32</td>\n",
       "      <td>2017-11-27</td>\n",
       "    </tr>\n",
       "    <tr>\n",
       "      <th>155</th>\n",
       "      <td>33</td>\n",
       "      <td>22</td>\n",
       "      <td>2017-11-06</td>\n",
       "    </tr>\n",
       "  </tbody>\n",
       "</table>\n",
       "<p>156 rows × 3 columns</p>\n",
       "</div>"
      ],
      "text/plain": [
       "      a   b       time\n",
       "0     0   1 2017-11-27\n",
       "1     0   2 2017-11-02\n",
       "2     0   3 2017-11-13\n",
       "3     0   4 2017-11-16\n",
       "4     0   5 2017-11-13\n",
       "..   ..  ..        ...\n",
       "151  33  29 2017-11-19\n",
       "152  33  30 2017-11-07\n",
       "153  33  31 2017-11-13\n",
       "154  33  32 2017-11-27\n",
       "155  33  22 2017-11-06\n",
       "\n",
       "[156 rows x 3 columns]"
      ]
     },
     "execution_count": 31,
     "metadata": {},
     "output_type": "execute_result"
    }
   ],
   "source": [
    "rows = []\n",
    "\n",
    "\n",
    "for e in G.edges():\n",
    "    u, w = e\n",
    "    t =  f'2017-11-{random.choice(range(1,30)) } 00:00:00'\n",
    "    G[u][w][\"t\"] = t\n",
    "    rows.append( (u,w,t) )\n",
    "    \n",
    "ks = [\"a\",\"b\",\"time\"]\n",
    "df = pd.DataFrame(rows, columns=ks)\n",
    "df[\"time\"] = pd.to_datetime(df[\"time\"])\n",
    "df"
   ]
  },
  {
   "cell_type": "code",
   "execution_count": 32,
   "id": "09d34ef5",
   "metadata": {},
   "outputs": [],
   "source": [
    "g = rp.Graph()"
   ]
  },
  {
   "cell_type": "code",
   "execution_count": 33,
   "id": "a431057a",
   "metadata": {},
   "outputs": [
    {
     "data": {
      "application/vnd.jupyter.widget-view+json": {
       "model_id": "2f19ae77baff4db48aeabc7d08af41b4",
       "version_major": 2,
       "version_minor": 0
      },
      "text/plain": [
       "HBox(children=(HTML(value=''), IntProgress(value=0, max=156), HTML(value='')))"
      ]
     },
     "metadata": {},
     "output_type": "display_data"
    }
   ],
   "source": [
    "g.load_edges_from_pandas(\n",
    "    df,\n",
    "    time='time',\n",
    "    src=\"a\",\n",
    "    dst=\"b\",\n",
    ")"
   ]
  },
  {
   "cell_type": "code",
   "execution_count": 34,
   "id": "d5b9ff3d",
   "metadata": {},
   "outputs": [
    {
     "data": {
      "text/plain": [
       "{'021U': 0,\n",
       " '111U': 0,\n",
       " '102': 0,\n",
       " '120D': 0,\n",
       " '021D': 0,\n",
       " '210': 0,\n",
       " '012': 0,\n",
       " '030T': 0,\n",
       " '201': 393,\n",
       " '120C': 0,\n",
       " '120U': 0,\n",
       " '300': 45,\n",
       " '003': 0,\n",
       " '111D': 0,\n",
       " '030C': 0,\n",
       " '021C': 0}"
      ]
     },
     "execution_count": 34,
     "metadata": {},
     "output_type": "execute_result"
    }
   ],
   "source": [
    "global_triadic_census(g)"
   ]
  },
  {
   "cell_type": "code",
   "execution_count": 35,
   "id": "31318857",
   "metadata": {},
   "outputs": [
    {
     "data": {
      "text/plain": [
       "{'10': 0,\n",
       " '8': 0,\n",
       " '11': 0,\n",
       " '9': 0,\n",
       " '7': 0,\n",
       " '0': 0,\n",
       " '12': 45,\n",
       " '3': 0,\n",
       " '15': 0,\n",
       " '2': 0,\n",
       " '5': 393,\n",
       " '14': 0,\n",
       " '1': 0,\n",
       " '6': 0,\n",
       " '13': 0,\n",
       " '4': 0}"
      ]
     },
     "execution_count": 35,
     "metadata": {},
     "output_type": "execute_result"
    }
   ],
   "source": [
    "global_triadic_census(g, use_new_triad_names=True)"
   ]
  },
  {
   "cell_type": "code",
   "execution_count": null,
   "id": "e1959df0",
   "metadata": {},
   "outputs": [],
   "source": []
  }
 ],
 "metadata": {
  "kernelspec": {
   "display_name": ".venv",
   "language": "python",
   "name": "python3"
  },
  "language_info": {
   "codemirror_mode": {
    "name": "ipython",
    "version": 3
   },
   "file_extension": ".py",
   "mimetype": "text/x-python",
   "name": "python",
   "nbconvert_exporter": "python",
   "pygments_lexer": "ipython3",
   "version": "3.11.6"
  }
 },
 "nbformat": 4,
 "nbformat_minor": 5
}
