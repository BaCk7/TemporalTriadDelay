{
 "cells": [
  {
   "cell_type": "code",
   "execution_count": 23,
   "id": "5f731446-ff33-4435-aea5-56033b004524",
   "metadata": {},
   "outputs": [],
   "source": [
    "from utils import *"
   ]
  },
  {
   "cell_type": "code",
   "execution_count": 24,
   "id": "553089a1-87ab-41f9-bbbc-2ff3cc3bb4be",
   "metadata": {},
   "outputs": [],
   "source": [
    "datasets = {\n",
    "    \"karate\": \"./demofiles/preprocessed/karate/karate_edges.csv.gz\",\n",
    "    #\"gn\": \"./demofiles/preprocessed/gn/gn.csv.gz\",\n",
    "    #\"nft-test\":\n",
    "}"
   ]
  },
  {
   "cell_type": "raw",
   "id": "28c1f608-c268-490f-81c8-fe6f30b40b5d",
   "metadata": {},
   "source": [
    "info_delays_all = {}\n",
    "\n",
    "datasets = [\"karate\"]\n",
    "for k in datasets:\n",
    "    with open(f\"demofiles/triadic_data_delays/{k}.pkl\",\"rb\") as f:\n",
    "        info_delays_all[k] = pickle.load(f)"
   ]
  }
 ],
 "metadata": {
  "kernelspec": {
   "display_name": "blockchainfork38",
   "language": "python",
   "name": "blockchainfork38"
  },
  "language_info": {
   "codemirror_mode": {
    "name": "ipython",
    "version": 3
   },
   "file_extension": ".py",
   "mimetype": "text/x-python",
   "name": "python",
   "nbconvert_exporter": "python",
   "pygments_lexer": "ipython3",
   "version": "3.8.10"
  }
 },
 "nbformat": 4,
 "nbformat_minor": 5
}
